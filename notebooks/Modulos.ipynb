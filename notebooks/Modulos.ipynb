{
 "cells": [
  {
   "cell_type": "markdown",
   "metadata": {},
   "source": [
    "# Módulos Python\n",
    "\n",
    "## Creación módulos\n",
    "\n",
    "crea un fichero llamado modulo.py para crear un objeto módulo con un único atributo llamado printer."
   ]
  },
  {
   "cell_type": "code",
   "execution_count": null,
   "metadata": {},
   "outputs": [],
   "source": [
    "def printer(x):\n",
    "    print(x)"
   ]
  },
  {
   "cell_type": "markdown",
   "metadata": {},
   "source": [
    "## Uso de módulos\n",
    "\n",
    "ahora se puede usar import o from:\n",
    "- import: carga el modulo como un conjunto, debes incluir el nombre del módulo cuando nombras sus atributos.\n",
    "\n",
    "- from carga o copia nombres específicos del módulo."
   ]
  },
  {
   "cell_type": "markdown",
   "metadata": {},
   "source": [
    "### sys.path\n",
    "Al ejecutar un programa python el directorio donde se ejecuta la búsqueda de modulo es en el directorio desde que se invoca en consola `py`\n",
    "\n",
    "La búsqueda de módulos se inicializar cuando se inicia Python. se puede acceder mediante `sys.path` \n",
    "al añadir `..` vas a la carpeta padre por ejemplo ahora se importa src.modulo para importar el contenido que tenga"
   ]
  },
  {
   "cell_type": "code",
   "execution_count": null,
   "metadata": {},
   "outputs": [],
   "source": [
    "import sys\n",
    "sys.path.append('..')"
   ]
  },
  {
   "cell_type": "markdown",
   "metadata": {},
   "source": [
    "### Sentencia import\n",
    "El nombre del módulo identifica un fichero para ser cargado luego pasa a ser una variable\n",
    "La sentencia `import` lista uno o más nombres de módulos para cargar separados por comas."
   ]
  },
  {
   "cell_type": "code",
   "execution_count": null,
   "metadata": {},
   "outputs": [],
   "source": [
    "import src.modulo as modulo\n",
    "modulo.printer(\"Hello world!\")"
   ]
  },
  {
   "cell_type": "markdown",
   "metadata": {},
   "source": [
    "### Sentencia from ejemplo import *\n",
    "Cuando usamos `*` obtenemos copias de todos los nombres asignados"
   ]
  },
  {
   "cell_type": "code",
   "execution_count": null,
   "metadata": {},
   "outputs": [],
   "source": [
    "from src.modulo import *\n",
    "printer(\"Hello world!\")"
   ]
  },
  {
   "cell_type": "markdown",
   "metadata": {},
   "source": [
    "### Sólo se importa una vez\n",
    "\n",
    "Dado que importar es una operación lenta, Python por defecto solo ejecuta una vez por fichero, por proceso."
   ]
  },
  {
   "cell_type": "code",
   "execution_count": null,
   "metadata": {},
   "outputs": [],
   "source": [
    "# modulo_simple.py\n",
    "print(\"modulo simple\")\n",
    "spam = 1"
   ]
  },
  {
   "cell_type": "code",
   "execution_count": null,
   "metadata": {},
   "outputs": [],
   "source": [
    "import src.modulo_simple as simple"
   ]
  },
  {
   "cell_type": "code",
   "execution_count": null,
   "metadata": {},
   "outputs": [],
   "source": [
    "simple.spam"
   ]
  },
  {
   "cell_type": "code",
   "execution_count": null,
   "metadata": {},
   "outputs": [],
   "source": [
    "simple.spam = 2\n",
    "import src.modulo_simple as simple\n",
    "simple.spam\n",
    "\n",
    "#no sobreescribe la variable ya que ya se ha importado"
   ]
  },
  {
   "cell_type": "markdown",
   "metadata": {},
   "source": [
    "Con `importlib` lo que permite es recargar el modulo forzando a que se importe de nuevo"
   ]
  },
  {
   "cell_type": "code",
   "execution_count": null,
   "metadata": {},
   "outputs": [],
   "source": [
    "import importlib\n",
    "importlib.reload(simple)"
   ]
  },
  {
   "cell_type": "markdown",
   "metadata": {},
   "source": [
    "### import y from son asignaciones\n",
    "Como `def`, `import` y `from` son sentencias ejecutables, no declaraciones en tiempo de compilación.\n",
    "- Puedes anidar en sentencias if.\n",
    "- aparecer en las definiciones de funciones para ser cargados sólo cuando llamas en la función.\n",
    "- ser usadas en try.\n",
    "\n",
    "No se resuelven o ejecutan hasta que Python llega cuando se ejecuta el programa\n",
    "\n",
    "### Cambiando mutables en modulos\n",
    "También como `def`, `import` y `from` son asignaciones implícitas:\n",
    "- `import` asigna un objeto módulo entero a un único nombre.\n",
    "- `from` asign uno o más nombres a objetos con los mismos nombres en otro módulo."
   ]
  },
  {
   "cell_type": "code",
   "execution_count": null,
   "metadata": {},
   "outputs": [],
   "source": [
    "# modulo_small.py\n",
    "x = 1\n",
    "y = [1, 2]"
   ]
  },
  {
   "cell_type": "code",
   "execution_count": null,
   "metadata": {},
   "outputs": [],
   "source": [
    "from src.modulo_small import x,y\n",
    "x = 42\n",
    "y[0] = 42\n",
    "x, y"
   ]
  },
  {
   "cell_type": "markdown",
   "metadata": {},
   "source": [
    "`x` no es un objeto compartido mutable, pero `y` sí:"
   ]
  },
  {
   "cell_type": "code",
   "execution_count": null,
   "metadata": {},
   "outputs": [],
   "source": [
    "import src.modulo_small as small\n",
    "small.x\n",
    "\n",
    "small.x, small.y"
   ]
  },
  {
   "cell_type": "markdown",
   "metadata": {},
   "source": [
    "#### Cambios de nombres entre ficheros"
   ]
  },
  {
   "cell_type": "code",
   "execution_count": null,
   "metadata": {},
   "outputs": [],
   "source": [
    "from src.modulo_small import x, y\n",
    "x = 42\n",
    "import src.modulo_small as small\n",
    "x, small.x"
   ]
  },
  {
   "cell_type": "code",
   "execution_count": null,
   "metadata": {},
   "outputs": [],
   "source": [
    "importlib.reload(small)"
   ]
  }
 ],
 "metadata": {
  "kernelspec": {
   "display_name": "Python 3",
   "language": "python",
   "name": "python3"
  },
  "language_info": {
   "codemirror_mode": {
    "name": "ipython",
    "version": 3
   },
   "file_extension": ".py",
   "mimetype": "text/x-python",
   "name": "python",
   "nbconvert_exporter": "python",
   "pygments_lexer": "ipython3",
   "version": "3.12.6"
  }
 },
 "nbformat": 4,
 "nbformat_minor": 2
}
