{
 "cells": [
  {
   "cell_type": "markdown",
   "metadata": {
    "id": "C-OO8eEEtZm5"
   },
   "source": [
    "Cap 19: Functional Programming Tools\n",
    "====================================\n",
    "> pag 574\n",
    "\n",
    "By most definitions, today’s Python blends support for multiple programming paradigms:\n",
    "\n",
    " - __procedural__ (with its basic statements),\n",
    " - __object-oriented__ (with its classes),\n",
    " - and __functional__.\n",
    "\n",
    "For the latter of these, Python includes a set of built-ins used for functional programming tools that apply functions to sequences and other iterables. This set includes:\n",
    "\n",
    " - Tools that call functions on an iterable’s items ( `map`);\n",
    " - Filter out items based on a test function ( `filter`);\n",
    " - and apply functions to pairs of items and running results ( `reduce` ).\n",
    "\n",
    "Python’s functional programming arsenal also includes the first-class object model explored earlier, the nested scope __closures__ and anonymous function __lambdas__ we met earlier in this part of the book, the __generators__ and __comprehensions__ we’ll be expanding on in the next chapter, and perhaps the function and class __decorators__ of this book’s final part."
   ]
  },
  {
   "cell_type": "markdown",
   "metadata": {
    "id": "QVCZ8YCytZm9"
   },
   "source": [
    "## Mapping Functions over Iterables: `map`\n",
    "\n",
    "One of the more common things programs do with lists and other sequences is apply an operation to each item and collect the results:"
   ]
  },
  {
   "cell_type": "code",
   "execution_count": 1,
   "metadata": {
    "colab": {
     "base_uri": "https://localhost:8080/"
    },
    "executionInfo": {
     "elapsed": 419,
     "status": "ok",
     "timestamp": 1701775330489,
     "user": {
      "displayName": "David G",
      "userId": "12396693595864054848"
     },
     "user_tz": -60
    },
    "id": "ybhO6_ZPtZm_",
    "outputId": "d064a814-20b4-4025-ea0f-2bc1812ab3f2"
   },
   "outputs": [
    {
     "data": {
      "text/plain": [
       "[11, 12, 13, 14]"
      ]
     },
     "execution_count": 1,
     "metadata": {},
     "output_type": "execute_result"
    }
   ],
   "source": [
    "counters = [1, 2, 3, 4]\n",
    "updated = []\n",
    "for x in counters:\n",
    "\tupdated.append(x + 10)\t\t# Add 10 to each item\n",
    "updated\n",
    "# [11, 12, 13, 14]"
   ]
  },
  {
   "cell_type": "markdown",
   "metadata": {},
   "source": [
    "use: \n",
    "```python \n",
    "map(function, data)\n",
    "```"
   ]
  },
  {
   "cell_type": "code",
   "execution_count": 2,
   "metadata": {
    "colab": {
     "base_uri": "https://localhost:8080/"
    },
    "executionInfo": {
     "elapsed": 551,
     "status": "ok",
     "timestamp": 1701775334183,
     "user": {
      "displayName": "David G",
      "userId": "12396693595864054848"
     },
     "user_tz": -60
    },
    "id": "0U_ou2JetZnA",
    "outputId": "7b6961ff-a72a-46b0-f757-836f21c1f591"
   },
   "outputs": [
    {
     "data": {
      "text/plain": [
       "[11, 12, 13, 14]"
      ]
     },
     "execution_count": 2,
     "metadata": {},
     "output_type": "execute_result"
    }
   ],
   "source": [
    "def inc(x): return x + 10 \t\t# Function to be run\n",
    "\n",
    "list(map(inc, counters))\t\t# Collect results\n",
    "# [11, 12, 13, 14]"
   ]
  },
  {
   "cell_type": "markdown",
   "metadata": {
    "id": "yxPeLesNtZnB"
   },
   "source": [
    "`map` calls `inc` on each list item and collects all the return values into a new list.\n",
    "\n",
    "Because `map` expects a function to be passed in and applied, it also happens to be one of the places where __lambda__ commonly appears:"
   ]
  },
  {
   "cell_type": "code",
   "execution_count": 3,
   "metadata": {
    "colab": {
     "base_uri": "https://localhost:8080/"
    },
    "executionInfo": {
     "elapsed": 267,
     "status": "ok",
     "timestamp": 1701775364773,
     "user": {
      "displayName": "David G",
      "userId": "12396693595864054848"
     },
     "user_tz": -60
    },
    "id": "UyqBoJe6tZnC",
    "outputId": "5d90bc53-dc0c-4d31-9731-f370749db3ea"
   },
   "outputs": [
    {
     "name": "stdout",
     "output_type": "stream",
     "text": [
      "[4, 5, 6, 7]\n"
     ]
    },
    {
     "data": {
      "text/plain": [
       "[1, 2, 3, 4]"
      ]
     },
     "execution_count": 3,
     "metadata": {},
     "output_type": "execute_result"
    }
   ],
   "source": [
    "lista = list(map((lambda x: x + 3), counters))\t\t# Function expression\n",
    "print(lista)\n",
    "# [4, 5, 6, 7]\n",
    "counters"
   ]
  },
  {
   "cell_type": "markdown",
   "metadata": {
    "id": "IwQhMRQQtZnD"
   },
   "source": [
    "As `map` is a built-in, it’s always available, always works the same way, and has some performance benefits (as we’ll prove in Chapter 21, it’s faster than a manually coded for loop in some usage modes)."
   ]
  },
  {
   "cell_type": "markdown",
   "metadata": {
    "id": "2wdcQbxktZnD"
   },
   "source": [
    "### Multiple sequence arguments\n",
    "\n",
    "For instance, given multiple sequence arguments, it sends items taken from sequences in parallel as distinct arguments to the function.\n",
    "With multiple sequences, `map` expects an N-argument function for N sequences. Here, the `pow` function takes two arguments on each call—one from each sequence passed to `map`."
   ]
  },
  {
   "cell_type": "code",
   "execution_count": 4,
   "metadata": {
    "id": "WnQpH_FntZnD",
    "outputId": "94593292-f241-46bf-a674-75532534259e"
   },
   "outputs": [
    {
     "data": {
      "text/plain": [
       "[1, 8, 81]"
      ]
     },
     "execution_count": 4,
     "metadata": {},
     "output_type": "execute_result"
    }
   ],
   "source": [
    "pow(3, 4)\t\t# 3**4\n",
    "# 81\n",
    "\n",
    "list(map(pow, [1, 2, 3], [2, 3, 4])) \t# 1**2, 2**3, 3**4\n",
    "# [1, 8, 81]"
   ]
  },
  {
   "cell_type": "markdown",
   "metadata": {
    "id": "O8KDPwyKtZnF"
   },
   "source": [
    "### `Map` similar to comprehensions\n",
    "\n",
    "The `map` call is similar to the list comprehension expressions we studied in Chapter 14 and will revisit in the next chapter from a functional perspective:"
   ]
  },
  {
   "cell_type": "markdown",
   "metadata": {},
   "source": [
    "Uso función **inc**: ```inc(numero, aumento)``` si no se le pasa cuanto va a aumentar por defecto 1"
   ]
  },
  {
   "cell_type": "code",
   "execution_count": 5,
   "metadata": {
    "id": "Kwi8vM2_tZnG",
    "outputId": "341adbc8-bfe7-4863-a53e-3531ebf105c1"
   },
   "outputs": [
    {
     "data": {
      "text/plain": [
       "[11, 12, 13, 14]"
      ]
     },
     "execution_count": 5,
     "metadata": {},
     "output_type": "execute_result"
    }
   ],
   "source": [
    "list(map(inc, [1, 2, 3, 4]))\n",
    "# [11, 12, 13, 14]\n",
    "\n",
    "[inc(x) for x in [1, 2, 3, 4]]\t\t# Use () parens to generate items instead\n",
    "# [11, 12, 13, 14]"
   ]
  },
  {
   "cell_type": "markdown",
   "metadata": {
    "id": "mfHG5CWrtZnH"
   },
   "source": [
    "In some cases, `map` may be faster to run than a list comprehension (e.g., when mapping a built-in function), and it may also require less coding.\n",
    "\n",
    "Wrapping a comprehension in parentheses instead of square brackets creates an object that generates values on request to save memory and increase responsiveness."
   ]
  },
  {
   "cell_type": "markdown",
   "metadata": {
    "id": "yJCkiP3WtZnH"
   },
   "source": [
    "## Selecting Items in Iterables: `filter`\n",
    "\n",
    "__filter__ and __reduce__, select an iterable’s items based on a test function and apply functions to item pairs, respectively.\n",
    "\n",
    "Because it also returns an iterable, `filter` (like `range` ) requires a list call to display all its results in 3.X.\n",
    "\n",
    "The following `filter` call picks out items in a sequence that are greater than zero:"
   ]
  },
  {
   "cell_type": "markdown",
   "metadata": {},
   "source": [
    "```python\n",
    "filter(filterfunction, data)\n",
    "```"
   ]
  },
  {
   "cell_type": "code",
   "execution_count": 6,
   "metadata": {
    "id": "s9pAoSYMtZnH",
    "outputId": "3a2f6c6f-d1af-4809-aeb0-0491dd875f16"
   },
   "outputs": [
    {
     "data": {
      "text/plain": [
       "[1, 2, 3, 4]"
      ]
     },
     "execution_count": 6,
     "metadata": {},
     "output_type": "execute_result"
    }
   ],
   "source": [
    "list(range(-5, 5))\n",
    "# [−5, −4, −3, −2, −1, 0, 1, 2, 3, 4] \t\t\t\t# An iterable in 3.X\n",
    "\n",
    "list(filter((lambda x: x > 0), range(-5, 5)))\t# An iterable in 3.X\n",
    "# [1, 2, 3, 4]\n",
    "\n",
    "res = []\n",
    "for x in range(-5, 5):\t\t\t# The statement equivalent\n",
    "\tif x > 0:\n",
    "\t    res.append(x)\n",
    "res\n",
    "# [1, 2, 3, 4]"
   ]
  },
  {
   "cell_type": "markdown",
   "metadata": {
    "id": "1tOcknb_tZnI"
   },
   "source": [
    "Also like `map`, filter can be emulated by __list comprehension__ syntax with often simpler results (especially when it can avoid creating a new function), and with a similar __generator expression__ when delayed production of results is desired:"
   ]
  },
  {
   "cell_type": "code",
   "execution_count": 7,
   "metadata": {
    "id": "YWJ3-j0_tZnI",
    "outputId": "5148ed4a-218e-47f9-8b87-0c7d47e755a5"
   },
   "outputs": [
    {
     "data": {
      "text/plain": [
       "[1, 2, 3, 4]"
      ]
     },
     "execution_count": 7,
     "metadata": {},
     "output_type": "execute_result"
    }
   ],
   "source": [
    "[x for x in range(-5, 5) if x > 0]\t\t# Use () to generate items\n",
    "# [1, 2, 3, 4]"
   ]
  },
  {
   "cell_type": "markdown",
   "metadata": {
    "id": "UO7hA_-itZnJ"
   },
   "source": [
    "## Combining Items in Iterables: `reduce`\n",
    "\n",
    "It accepts an iterable to process, but it’s not an iterable itself, it __returns a single result__.\n",
    "\n",
    "Here are two `reduce` calls that compute the sum and product of the items in a list.\n",
    "\n",
    "Para usar `reduce` es necesario importar functools:"
   ]
  },
  {
   "cell_type": "code",
   "execution_count": null,
   "metadata": {
    "id": "MlitV4YatZnJ",
    "outputId": "b12e6f7c-3268-46ca-c8e2-1058dd600b33"
   },
   "outputs": [
    {
     "data": {
      "text/plain": [
       "10"
      ]
     },
     "execution_count": 8,
     "metadata": {},
     "output_type": "execute_result"
    }
   ],
   "source": [
    "from functools import reduce\t\t\t# Import in 3.X, not in 2.X\n",
    "reduce((lambda x, y: x + y), [1, 2, 3, 4])\n",
    "# reduce -> (((1 + 2) + 3) + 4)\n",
    "# 10"
   ]
  },
  {
   "cell_type": "markdown",
   "metadata": {
    "id": "G4DFUjcltZnK"
   },
   "source": [
    "At each step, `reduce` passes the current sum or product, along with the next item from the list, to the passed-in `lambda` function. By default, the first item in the sequence initializes the starting value."
   ]
  },
  {
   "cell_type": "code",
   "execution_count": 9,
   "metadata": {
    "id": "u_RlKJJYtZnK",
    "outputId": "2fdfe07e-fc52-4c49-aba8-e0cc29ac93a1"
   },
   "outputs": [
    {
     "data": {
      "text/plain": [
       "10"
      ]
     },
     "execution_count": 9,
     "metadata": {},
     "output_type": "execute_result"
    }
   ],
   "source": [
    "# computación equivalente\n",
    "L = [1,2,3,4]\n",
    "res = L[0]\n",
    "for x in L[1:]:\n",
    "\tres = res + x\n",
    "res\n",
    "# 10"
   ]
  },
  {
   "cell_type": "markdown",
   "metadata": {
    "id": "54nCTeA7tZnL"
   },
   "source": [
    "## Ejercicios propuestos\n",
    "\n",
    "### Longitud de las palabras de un string\n",
    "\n",
    "For example, let's say we need to create a list of integers which specify the length of each word in a certain sentence, but only if the word is not the word \"the\".\n",
    "\n",
    "[http://www.learnpython.org/en/List_Comprehensions](http://www.learnpython.org/en/List_Comprehensions)\n"
   ]
  },
  {
   "cell_type": "code",
   "execution_count": 11,
   "metadata": {
    "id": "ZcD3EmTOtZnM"
   },
   "outputs": [
    {
     "data": {
      "text/plain": [
       "[5, 5, 3, 5, 4, 4, 3]"
      ]
     },
     "execution_count": 11,
     "metadata": {},
     "output_type": "execute_result"
    }
   ],
   "source": [
    "sentence = \"the quick brown fox jumps over the lazy dog\"\n",
    "words = sentence.split()\n",
    "word_lengths = []\n",
    "for word in words:\n",
    "    if word != \"the\":\n",
    "        word_lengths.append(len(word))\n",
    "\n",
    "# Solución:\n",
    "\n",
    "sentence = \"the quick brown fox jumps over the lazy dog\"\n",
    "words = sentence.split()\n",
    "word_lengths = [len(word) for word in words if word != \"the\"]\n",
    "word_lengths"
   ]
  },
  {
   "cell_type": "markdown",
   "metadata": {
    "id": "sEjH_Yo3tZnM"
   },
   "source": [
    "### Funciones estadísticas\n",
    "\n",
    "[Linuxtopia](http://www.linuxtopia.org/online_books/programming_books/python_programming/python_ch20s07.html)\n",
    "\n",
    " 1. Temperature Table. Write a list comprehension that creates a list of tuples. Each tuple has two values, a temperature in Farenheit and a temperature in Celsius.\n",
    "  - Create one list for Farenheit values from 0 to 100 in steps of 5 and the matching Celsius values.\n",
    "  - Create another list for Celsius values from -10 to 50 in steps of 2 and the matching Farenheit values.\n",
    "\n",
    "  Solucion:\n",
    "  ```python\n",
    "  farenheit = list(range(0, 101, 5))\n",
    "  [ (x, (x - 32) *5/9) for x in farenheit]\n",
    "  ```"
   ]
  },
  {
   "cell_type": "code",
   "execution_count": 12,
   "metadata": {},
   "outputs": [
    {
     "name": "stdout",
     "output_type": "stream",
     "text": [
      "[(0, -17.77777777777778), (5, -15.0), (10, -12.222222222222221), (15, -9.444444444444445), (20, -6.666666666666667), (25, -3.888888888888889), (30, -1.1111111111111112), (35, 1.6666666666666667), (40, 4.444444444444445), (45, 7.222222222222222), (50, 10.0), (55, 12.777777777777779), (60, 15.555555555555555), (65, 18.333333333333332), (70, 21.11111111111111), (75, 23.88888888888889), (80, 26.666666666666668), (85, 29.444444444444443), (90, 32.22222222222222), (95, 35.0), (100, 37.77777777777778)]\n"
     ]
    }
   ],
   "source": [
    "farenheit = list(range(0, 101, 5))\n",
    "print([ (x, (x - 32) *5/9) for x in farenheit])"
   ]
  },
  {
   "cell_type": "markdown",
   "metadata": {
    "id": "hEKEs0istZnN"
   },
   "source": [
    "2. Define max() and min().\n",
    "Use reduce to create versions of the built-ins max and min.\n",
    "You may find this difficult to do this with a simple lambda form. However, consider the following. We can pick a value from a tuple like this: (a,b)[0] == a, and (a,b)[1] == b. What are the values of (a,b)[a<b] and (a,b)[a>b]?"
   ]
  },
  {
   "cell_type": "markdown",
   "metadata": {
    "id": "PnMr3gT1tZnN"
   },
   "source": [
    "3. Compute the Average or Mean.\n",
    "A number of standard descriptive statistics can be built with reduce. These include mean and standard deviation. The basic formulae are given in Chapter 13, Tuples.\n",
    "\n",
    "Mean is a simple “add-reduction” of the values in a sequence divided by the length."
   ]
  },
  {
   "cell_type": "markdown",
   "metadata": {
    "id": "oJcLQDbmtZnO"
   },
   "source": [
    "4. Compute the Variance and Standard Deviation.\n",
    "\n",
    "A number of standard descriptive statistics can be built with reduce. These include mean and standard deviation. The basic formulae are given in Chapter 13, Tuples.\n",
    "\n",
    "The standard deviation has a number of alternative definitions. One approach is to sum the values and square this number, as well as sum the squares of each number. Summing squares can be done as a map to compute squares and then use a sum function based on reduce. Or summing squares can be done with a special reduce that both squares and sums.\n",
    "\n",
    "Also the standard deviation can be defined as the square root of the variance, which is computed as:\n",
    "\tProcedure 20.1. Variance of a sequence a\n",
    "\tMean. m ← mean(a)\n",
    "\tTotal Variance. s ← sum of (a[i] − m )2 for all i\n",
    "\tAverage Variance. divide s by n−1"
   ]
  }
 ],
 "metadata": {
  "colab": {
   "provenance": []
  },
  "kernelspec": {
   "display_name": "Python 3",
   "language": "python",
   "name": "python3"
  },
  "language_info": {
   "codemirror_mode": {
    "name": "ipython",
    "version": 3
   },
   "file_extension": ".py",
   "mimetype": "text/x-python",
   "name": "python",
   "nbconvert_exporter": "python",
   "pygments_lexer": "ipython3",
   "version": "3.12.6"
  }
 },
 "nbformat": 4,
 "nbformat_minor": 0
}
